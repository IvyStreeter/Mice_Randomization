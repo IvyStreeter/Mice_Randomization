{
 "cells": [
  {
   "cell_type": "code",
   "execution_count": 1,
   "metadata": {},
   "outputs": [],
   "source": [
    "#say I have a list of mice that I want to divide into n groups, how do I generate n lists where the mean and standard deviation are similar?\n",
    "#sort\n",
    "#divide into x equally and sequntially\n",
    "#calculate sum\n",
    "#if average not within x mm3 shuffle volumes\n",
    "\n",
    "#this is version 1 which focus on spliting and calculating 2 groups \n",
    "#version 2 goals: (A) autonomously reduce minimum value (B) to incorporate complexity of splitting into n groups"
   ]
  },
  {
   "cell_type": "code",
   "execution_count": 2,
   "metadata": {},
   "outputs": [],
   "source": [
    "import pandas as pd\n",
    "import numpy as np\n",
    "from statistics import stdev"
   ]
  },
  {
   "cell_type": "code",
   "execution_count": 3,
   "metadata": {},
   "outputs": [],
   "source": [
    "input=\"tosort.txt\"\n",
    "originallist = pd.read_csv(input, sep='\\t')"
   ]
  },
  {
   "cell_type": "code",
   "execution_count": 4,
   "metadata": {},
   "outputs": [],
   "source": [
    "sort_list = originallist.sort_values([\"volume\"],ignore_index=True)"
   ]
  },
  {
   "cell_type": "code",
   "execution_count": 5,
   "metadata": {},
   "outputs": [],
   "source": [
    "A = sort_list[::2].reset_index(drop=True)\n",
    "B = sort_list[1::2].reset_index(drop=True)\n"
   ]
  },
  {
   "cell_type": "code",
   "execution_count": 6,
   "metadata": {},
   "outputs": [],
   "source": [
    "condition1 = abs(A['volume'].mean() - B['volume'].mean())\n",
    "condition2 = abs(stdev(A['volume']) - stdev(B['volume']))"
   ]
  },
  {
   "cell_type": "code",
   "execution_count": 7,
   "metadata": {},
   "outputs": [],
   "source": [
    "# source https://stackoverflow.com/questions/58548267/how-to-remove-and-return-a-row-from-a-pandas-dataframe\n",
    "def drop_return(df,index):\n",
    "    first_row = df.loc[index]\n",
    "    df.drop(index, inplace = True)\n",
    "    return first_row"
   ]
  },
  {
   "cell_type": "code",
   "execution_count": 8,
   "metadata": {},
   "outputs": [],
   "source": [
    "def swap (list1,list2):\n",
    "    poplist1 = drop_return(list1,0)\n",
    "    poplist2 = drop_return(list2,0)\n",
    "    list1.loc[-1]=poplist2\n",
    "    list2.loc[-1]=poplist1\n",
    "    return list1.reset_index(drop=True),list2.reset_index(drop=True)"
   ]
  },
  {
   "cell_type": "code",
   "execution_count": 9,
   "metadata": {},
   "outputs": [],
   "source": [
    "while condition1 > 9 or condition2 > 9:\n",
    "    swap(A,B)\n",
    "    np.random.shuffle(A.values)\n",
    "    A.reset_index(drop=True, inplace=True)\n",
    "    B.reset_index(drop=True, inplace=True)\n",
    "    condition1 = abs(A['volume'].mean() - B['volume'].mean())\n",
    "    condition2 = abs(stdev(A['volume']) - stdev(B['volume']))\n"
   ]
  },
  {
   "cell_type": "code",
   "execution_count": 10,
   "metadata": {},
   "outputs": [],
   "source": [
    "final_sheet=pd.concat([A,B], axis=1)"
   ]
  },
  {
   "cell_type": "code",
   "execution_count": 11,
   "metadata": {},
   "outputs": [],
   "source": [
    "final_sheet.to_excel('~/Desktop/final_sheet.xlsx')"
   ]
  },
  {
   "cell_type": "code",
   "execution_count": 12,
   "metadata": {},
   "outputs": [
    {
     "name": "stdout",
     "output_type": "stream",
     "text": [
      "     mouse  volume\n",
      "0   4014.0   215.0\n",
      "1   4009.0    85.0\n",
      "2   4008.0    59.0\n",
      "3   4015.0   396.0\n",
      "4   4021.0   169.0\n",
      "5   4002.0   125.0\n",
      "6   4019.0   146.0\n",
      "7   4018.0   122.0\n",
      "8   4003.0   151.0\n",
      "9   4022.0   274.0\n",
      "10  4004.0   165.0\n",
      "11  4011.0   166.0\n"
     ]
    }
   ],
   "source": [
    "print(A)"
   ]
  },
  {
   "cell_type": "code",
   "execution_count": 13,
   "metadata": {},
   "outputs": [
    {
     "name": "stdout",
     "output_type": "stream",
     "text": [
      "     mouse  volume\n",
      "0   4005.0   200.0\n",
      "1   4020.0   162.0\n",
      "2   4001.0   102.0\n",
      "3   4007.0   280.0\n",
      "4   4012.0   184.0\n",
      "5   4010.0   100.0\n",
      "6   4000.0    53.0\n",
      "7   4006.0   270.0\n",
      "8   4023.0   380.0\n",
      "9   4013.0   220.0\n",
      "10  4016.0    95.0\n",
      "11  4017.0   116.0\n"
     ]
    }
   ],
   "source": [
    "print(B)"
   ]
  },
  {
   "cell_type": "code",
   "execution_count": 14,
   "metadata": {},
   "outputs": [
    {
     "name": "stdout",
     "output_type": "stream",
     "text": [
      "7.416666666666657\n"
     ]
    }
   ],
   "source": [
    "print(condition1)"
   ]
  },
  {
   "cell_type": "code",
   "execution_count": 15,
   "metadata": {},
   "outputs": [
    {
     "name": "stdout",
     "output_type": "stream",
     "text": [
      "5.736476633706161\n"
     ]
    }
   ],
   "source": [
    "print(condition2)"
   ]
  },
  {
   "cell_type": "code",
   "execution_count": null,
   "metadata": {},
   "outputs": [],
   "source": []
  }
 ],
 "metadata": {
  "kernelspec": {
   "display_name": "Python 3.9.9 ('.venv': venv)",
   "language": "python",
   "name": "python3"
  },
  "language_info": {
   "codemirror_mode": {
    "name": "ipython",
    "version": 3
   },
   "file_extension": ".py",
   "mimetype": "text/x-python",
   "name": "python",
   "nbconvert_exporter": "python",
   "pygments_lexer": "ipython3",
   "version": "3.9.9"
  },
  "orig_nbformat": 4,
  "vscode": {
   "interpreter": {
    "hash": "314af3a94918dcb8ed10fe3cdd09ca8f9fcb5848971b179c5fc14213cec9f893"
   }
  }
 },
 "nbformat": 4,
 "nbformat_minor": 2
}
